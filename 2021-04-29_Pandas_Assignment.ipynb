{
 "cells": [
  {
   "cell_type": "markdown",
   "metadata": {
    "id": "WoOnDpqNMsLq"
   },
   "source": [
    "# Practice Time"
   ]
  },
  {
   "cell_type": "markdown",
   "metadata": {
    "id": "KbLtvFLFMsLs"
   },
   "source": [
    "#### Pythagorean Theorem\n",
    "Write a function that returns the hypotenouse `c` given side `a` and `b`.\n",
    "\n",
    "`4 ** 2` returns 16  \n",
    "`3 ** 3` returns 27"
   ]
  },
  {
   "cell_type": "code",
   "execution_count": 217,
   "metadata": {
    "id": "Ov3RQ48kUULR"
   },
   "outputs": [],
   "source": [
    "import math\n",
    "def pyth(a, b):\n",
    "  c = math.sqrt((a**2) + (b**2))\n",
    "  return c"
   ]
  },
  {
   "cell_type": "markdown",
   "metadata": {
    "id": "Rx3-eUbGMsME"
   },
   "source": [
    "#### Modulo Operator\n",
    "Write a function that returns True if the integer is even, and False if the interger is Odd. Hint: use the modulo operator `%` to return the remainder.\n",
    "\n",
    "`6 / 2` returns `3`; division  \n",
    "`6 % 2` returns `0`; meaning that the remainder is 0"
   ]
  },
  {
   "cell_type": "code",
   "execution_count": null,
   "metadata": {
    "id": "MW1ejttKUUuL"
   },
   "outputs": [],
   "source": []
  },
  {
   "cell_type": "markdown",
   "metadata": {
    "id": "gJjxYsvSMsMU"
   },
   "source": [
    "#### Baby's First Bioinformatics Step\n",
    "\n",
    "Write functions for each of the following tasks:\n",
    "\n",
    "    1. Count all different nucleotides (A, T, G, C) and store them into variables.\n",
    "    2. Calculate GC% of the whole strand\n",
    "    2. Convert DNA_string into RNA_string\n",
    "    3. Convert the resulting RNA into an amino acid sequence"
   ]
  },
  {
   "cell_type": "code",
   "execution_count": 218,
   "metadata": {
    "id": "rQId6pLAMsMV"
   },
   "outputs": [],
   "source": [
    "DNA_string = 'TGGAAGAGTTTAAGGCCAAGAATAGCAAATCTATCCACCACGATGATGGCACTTATTTCCTTAGTGCTTGTG'"
   ]
  },
  {
   "cell_type": "markdown",
   "metadata": {
    "id": "7moBo9_gMsMk"
   },
   "source": [
    "#### Count all 4 Nucleotides"
   ]
  },
  {
   "cell_type": "code",
   "execution_count": 220,
   "metadata": {
    "colab": {
     "base_uri": "https://localhost:8080/"
    },
    "id": "rotkF100UY3q",
    "outputId": "3831149a-8e6b-46e7-d635-6c2474025832"
   },
   "outputs": [
    {
     "name": "stdout",
     "output_type": "stream",
     "text": [
      "72\n"
     ]
    }
   ],
   "source": [
    "dna_seq = DNA_string\n",
    "dna_count = dna_seq.count(\"A\") + dna_seq.count(\"T\") + dna_seq.count(\"G\") + dna_seq.count(\"C\")\n",
    "print(dna_count)"
   ]
  },
  {
   "cell_type": "markdown",
   "metadata": {
    "id": "zU9m7_xfMsM7"
   },
   "source": [
    "#### Calculate GC %"
   ]
  },
  {
   "cell_type": "code",
   "execution_count": 221,
   "metadata": {
    "colab": {
     "base_uri": "https://localhost:8080/"
    },
    "id": "fL5KBdpxMsM8",
    "outputId": "10424ad4-f358-495b-97c1-b805abbc7e8b"
   },
   "outputs": [
    {
     "name": "stdout",
     "output_type": "stream",
     "text": [
      "0.4166666666666667\n"
     ]
    }
   ],
   "source": [
    "gc_count = dna_seq.count(\"G\") + dna_seq.count(\"C\")\n",
    "dna_fraction = gc_count / len(dna_seq)\n",
    "print(dna_fraction)"
   ]
  },
  {
   "cell_type": "markdown",
   "metadata": {
    "id": "oxBuNFXrMsNH"
   },
   "source": [
    "#### Convert DNA to RNA"
   ]
  },
  {
   "cell_type": "code",
   "execution_count": 222,
   "metadata": {
    "colab": {
     "base_uri": "https://localhost:8080/"
    },
    "id": "YKtqGjUyMsNS",
    "outputId": "1532f97b-42bf-47dd-f45f-2c31e93ebf17"
   },
   "outputs": [
    {
     "name": "stdout",
     "output_type": "stream",
     "text": [
      "UGGAAGAGUUUAAGGCCAAGAAUAGCAAAUCUAUCCACCACGAUGAUGGCACUUAUUUCCUUAGUGCUUGUG\n"
     ]
    }
   ],
   "source": [
    "rna_seq = print(dna_seq.replace(\"T\", \"U\"))"
   ]
  },
  {
   "cell_type": "markdown",
   "metadata": {
    "id": "sCkgxS-QMsNW"
   },
   "source": [
    "#### Convert RNA to AA sequence"
   ]
  },
  {
   "cell_type": "code",
   "execution_count": 296,
   "metadata": {
    "colab": {
     "base_uri": "https://localhost:8080/"
    },
    "id": "wQ9cXEfm1Aew",
    "outputId": "98d173b4-d166-4cbe-8818-b9c0a1be0b2f"
   },
   "outputs": [
    {
     "ename": "AttributeError",
     "evalue": "'NoneType' object has no attribute 'map'",
     "output_type": "error",
     "traceback": [
      "\u001b[0;31m---------------------------------------------------------------------------\u001b[0m",
      "\u001b[0;31mAttributeError\u001b[0m                            Traceback (most recent call last)",
      "\u001b[0;32m<ipython-input-296-d5b677ae95a3>\u001b[0m in \u001b[0;36m<module>\u001b[0;34m\u001b[0m\n\u001b[1;32m      3\u001b[0m \u001b[0mtype\u001b[0m\u001b[0;34m(\u001b[0m\u001b[0mrna_seq\u001b[0m\u001b[0;34m)\u001b[0m\u001b[0;34m\u001b[0m\u001b[0;34m\u001b[0m\u001b[0m\n\u001b[1;32m      4\u001b[0m \u001b[0;34m\u001b[0m\u001b[0m\n\u001b[0;32m----> 5\u001b[0;31m \u001b[0maa_seq\u001b[0m \u001b[0;34m=\u001b[0m \u001b[0mprint\u001b[0m\u001b[0;34m(\u001b[0m\u001b[0mrna_seq\u001b[0m\u001b[0;34m.\u001b[0m\u001b[0mmap\u001b[0m\u001b[0;34m(\u001b[0m\u001b[0mAA_dct\u001b[0m\u001b[0;34m)\u001b[0m\u001b[0;34m)\u001b[0m\u001b[0;34m\u001b[0m\u001b[0;34m\u001b[0m\u001b[0m\n\u001b[0m",
      "\u001b[0;31mAttributeError\u001b[0m: 'NoneType' object has no attribute 'map'"
     ]
    }
   ],
   "source": [
    "#AA_dct\n",
    "#[rna_seq[i:i+3] for i in range(0, len(rna_seq),3)]\n",
    "type(rna_seq)\n",
    "\n",
    "aa_seq = print(rna_seq.map(AA_dct))"
   ]
  },
  {
   "cell_type": "code",
   "execution_count": 440,
   "metadata": {
    "id": "xGxRukSRMsMd"
   },
   "outputs": [],
   "source": [
    "# Helper dictionary to accomplish #3\n",
    "\n",
    "AA_dct = {\n",
    "    # Phenylalanine\n",
    "    'UUC':'F', 'UUU':'F',\n",
    "    # Leucine\n",
    "    'UUA':'L', 'UUG':'L', 'CUU':'L', 'CUC':'L','CUA':'L','CUG':'L', \n",
    "    # Isoleucine\n",
    "    'AUU':'I', 'AUC':'I', 'AUA':'I', \n",
    "    # Methionine\n",
    "    'AUG':'M', \n",
    "    # Valine\n",
    "    'GUU':'V', 'GUC':'V', 'GUA':'V', 'GUG':'V', \n",
    "    # Serine\n",
    "    'UCU':'S', 'UCC':'S', 'UCA':'S', 'UCG':'S', 'AGU':'S', 'AGC':'S', \n",
    "    # Proline\n",
    "    'CCU':'P', 'CCC':'P', 'CCA':'P', 'CCG':'P', \n",
    "    # Threonine\n",
    "    'ACU':'T', 'ACC':'T', 'ACA':'T', 'ACG':'T',\n",
    "    # Alanine\n",
    "    'GCU':'A', 'GCC':'A', 'GCA':'A', 'GCG':'A', \n",
    "    # Tyrosine\n",
    "    'UAU':'Y', 'UAC':'Y', \n",
    "    # Histidine\n",
    "    'CAU':'H', 'CAC':'H',\n",
    "    # Glutamine\n",
    "    'CAA':'Q', 'CAG':'Q', \n",
    "    # Asparagine\n",
    "    'AAU':'N', 'AAC':'N', \n",
    "    # Lysine\n",
    "    'AAA':'K', 'AAG':'K',\n",
    "    # Aspartic Acid\n",
    "    'GAU':'D', 'GAC':'D', \n",
    "    # Glutamic Acid\n",
    "    'GAA':'E', 'GAG':'E',\n",
    "    # Cystine\n",
    "    'UGU':'C', 'UGC':'C',\n",
    "    # Tryptophan\n",
    "    'UGG':'W', \n",
    "    # Arginine\n",
    "    'CGU':'R', 'CGC':'R', 'CGA':'R', 'CGG':'R', 'AGA':'R', 'AGG':'R', \n",
    "    # Glycine\n",
    "    'GGU':'G',  'GGC':'G', 'GGA':'G', 'GGG':'G', \n",
    "    # Stop codon\n",
    "    'UAA':'Stop', 'UGA':'Stop', 'UAG':'Stop'}"
   ]
  },
  {
   "cell_type": "markdown",
   "metadata": {
    "id": "9-px1bVhMsNd"
   },
   "source": [
    "#### Baby's First Application\n",
    "\n",
    "Load `codon.csv` using pandas. See https://pandas.pydata.org/pandas-docs/stable/reference/api/pandas.read_csv.html.\n",
    "\n",
    "Do all the steps above to the single DNA strand in `codon.csv` and organize your results in a digestible way (as if you're going to show your PI your results!)"
   ]
  },
  {
   "cell_type": "code",
   "execution_count": 441,
   "metadata": {
    "colab": {
     "base_uri": "https://localhost:8080/"
    },
    "id": "t7N0QNSIVPae",
    "outputId": "553f7b2a-6644-4544-d778-9ce80b4bbebb"
   },
   "outputs": [
    {
     "data": {
      "text/html": [
       "<div>\n",
       "<style scoped>\n",
       "    .dataframe tbody tr th:only-of-type {\n",
       "        vertical-align: middle;\n",
       "    }\n",
       "\n",
       "    .dataframe tbody tr th {\n",
       "        vertical-align: top;\n",
       "    }\n",
       "\n",
       "    .dataframe thead th {\n",
       "        text-align: right;\n",
       "    }\n",
       "</style>\n",
       "<table border=\"1\" class=\"dataframe\">\n",
       "  <thead>\n",
       "    <tr style=\"text-align: right;\">\n",
       "      <th></th>\n",
       "      <th>Unnamed: 0</th>\n",
       "      <th>0</th>\n",
       "    </tr>\n",
       "  </thead>\n",
       "  <tbody>\n",
       "    <tr>\n",
       "      <th>0</th>\n",
       "      <td>0</td>\n",
       "      <td>TGG</td>\n",
       "    </tr>\n",
       "    <tr>\n",
       "      <th>1</th>\n",
       "      <td>1</td>\n",
       "      <td>AAG</td>\n",
       "    </tr>\n",
       "    <tr>\n",
       "      <th>2</th>\n",
       "      <td>2</td>\n",
       "      <td>AGT</td>\n",
       "    </tr>\n",
       "    <tr>\n",
       "      <th>3</th>\n",
       "      <td>3</td>\n",
       "      <td>TTA</td>\n",
       "    </tr>\n",
       "    <tr>\n",
       "      <th>4</th>\n",
       "      <td>4</td>\n",
       "      <td>AGG</td>\n",
       "    </tr>\n",
       "    <tr>\n",
       "      <th>...</th>\n",
       "      <td>...</td>\n",
       "      <td>...</td>\n",
       "    </tr>\n",
       "    <tr>\n",
       "      <th>15227</th>\n",
       "      <td>15227</td>\n",
       "      <td>TAA</td>\n",
       "    </tr>\n",
       "    <tr>\n",
       "      <th>15228</th>\n",
       "      <td>15228</td>\n",
       "      <td>TAT</td>\n",
       "    </tr>\n",
       "    <tr>\n",
       "      <th>15229</th>\n",
       "      <td>15229</td>\n",
       "      <td>CAC</td>\n",
       "    </tr>\n",
       "    <tr>\n",
       "      <th>15230</th>\n",
       "      <td>15230</td>\n",
       "      <td>AAA</td>\n",
       "    </tr>\n",
       "    <tr>\n",
       "      <th>15231</th>\n",
       "      <td>15231</td>\n",
       "      <td>CTT</td>\n",
       "    </tr>\n",
       "  </tbody>\n",
       "</table>\n",
       "<p>15232 rows × 2 columns</p>\n",
       "</div>"
      ],
      "text/plain": [
       "       Unnamed: 0    0\n",
       "0               0  TGG\n",
       "1               1  AAG\n",
       "2               2  AGT\n",
       "3               3  TTA\n",
       "4               4  AGG\n",
       "...           ...  ...\n",
       "15227       15227  TAA\n",
       "15228       15228  TAT\n",
       "15229       15229  CAC\n",
       "15230       15230  AAA\n",
       "15231       15231  CTT\n",
       "\n",
       "[15232 rows x 2 columns]"
      ]
     },
     "execution_count": 441,
     "metadata": {},
     "output_type": "execute_result"
    }
   ],
   "source": [
    "import pandas as pd\n",
    "import numpy as np\n",
    "pd.read_csv('codon.csv')"
   ]
  },
  {
   "cell_type": "markdown",
   "metadata": {
    "id": "QMlebWWjRDfu"
   },
   "source": [
    "# Pandas Bioinformatics Practice\n",
    "\n",
    "### Complete the following tasks. As always, there are multiple ways to solve these steps.\n",
    "\n",
    "1) Load `codon.csv` and clean it by removing unnecessary column(s) and changing the column header name to `DNA`.  \n",
    "2) Create three new columns: `RNA`, `AA`, and `weight` filled with appropriate data.  \n",
    "3) Create a barplot of the 3 highest frequency amino acids.  \n",
    "4) Create a boxplot of the codon weights.  \n",
    "5) Create the descriptive summary statistics table for `weight`\n",
    "\n",
    "### Harder Challenge (Google a lot, don't have to finish today)\n",
    "\n",
    "6) Use the stop codon as a separator and create a new dataframe where each row is a new protein sequence. For example, the long string `ABCABCStopDEFSStop` is two protein sequences, `ABCABC` and `DEFS`.  \n",
    "7) Create two new columns in the new dataframe, `length` of the protein sequence and `weight` of protein sequence.   \n",
    "8) Create a descriptive summary statistics table for `length` and `weight`.  \n",
    "9) Is there a relationship between the length and weight of protein sequences? Create a scatter plot comparing `length` and `weight` and include the regression line.  \n",
    "10) What is the Pearson correlation coefficient?\n"
   ]
  },
  {
   "cell_type": "markdown",
   "metadata": {},
   "source": [
    "# Pandas Bioinformatics Assignment"
   ]
  },
  {
   "cell_type": "markdown",
   "metadata": {},
   "source": [
    "### 1) Load codon.csv and clean it by removing unnecessary column(s) and changing the column header name to DNA. "
   ]
  },
  {
   "cell_type": "code",
   "execution_count": 589,
   "metadata": {
    "scrolled": true
   },
   "outputs": [
    {
     "name": "stdout",
     "output_type": "stream",
     "text": [
      "       DNA\n",
      "0      TGG\n",
      "1      AAG\n",
      "2      AGT\n",
      "3      TTA\n",
      "4      AGG\n",
      "...    ...\n",
      "15227  TAA\n",
      "15228  TAT\n",
      "15229  CAC\n",
      "15230  AAA\n",
      "15231  CTT\n",
      "\n",
      "[15232 rows x 1 columns]\n"
     ]
    }
   ],
   "source": [
    "import pandas as pd\n",
    "import seaborn as sns\n",
    "import matplotlib.pyplot as plt\n",
    "df = pd.read_csv('codon.csv', names=['A',  'DNA'])\n",
    "df.drop(df.columns[[0]], axis=1, inplace=True)\n",
    "print(df)"
   ]
  },
  {
   "cell_type": "markdown",
   "metadata": {},
   "source": [
    "### 2) Create three new columns: RNA, AA, and weight filled with appropriate data."
   ]
  },
  {
   "cell_type": "code",
   "execution_count": 590,
   "metadata": {
    "id": "EvVO5Oh0RGIm"
   },
   "outputs": [],
   "source": [
    "# Helper dictionary for step 2\n",
    "\n",
    "weights = {'A': 71.04, 'C': 103.01, 'D': 115.03, 'E': 129.04, 'F': 147.07,\n",
    "           'G': 57.02, 'H': 137.06, 'I': 113.08, 'K': 128.09, 'L': 113.08,\n",
    "           'M': 131.04, 'N': 114.04, 'P': 97.05, 'Q': 128.06, 'R': 156.10,\n",
    "           'S': 87.03, 'T': 101.05, 'V': 99.07, 'W': 186.08, 'Y': 163.06 }\n"
   ]
  },
  {
   "cell_type": "code",
   "execution_count": 591,
   "metadata": {},
   "outputs": [
    {
     "name": "stdout",
     "output_type": "stream",
     "text": [
      "       DNA  RNA    AA  weight\n",
      "0      TGG  UGG     W  186.08\n",
      "1      AAG  AAG     K  128.09\n",
      "2      AGT  AGU     S   87.03\n",
      "3      TTA  UUA     L  113.08\n",
      "4      AGG  AGG     R   156.1\n",
      "...    ...  ...   ...     ...\n",
      "15227  TAA  UAA  Stop    Stop\n",
      "15228  TAT  UAU     Y  163.06\n",
      "15229  CAC  CAC     H  137.06\n",
      "15230  AAA  AAA     K  128.09\n",
      "15231  CTT  CUU     L  113.08\n",
      "\n",
      "[15232 rows x 4 columns]\n"
     ]
    }
   ],
   "source": [
    "# Make Columns \n",
    "df['RNA'] = df['DNA'].str.replace(\"T\", \"U\")\n",
    "df['AA'] = df['RNA'].replace(AA_dct)\n",
    "df['weight'] = df['AA'].replace(weights)\n",
    "print(df)"
   ]
  },
  {
   "cell_type": "markdown",
   "metadata": {},
   "source": [
    "### 3) Create a barplot of the 3 highest frequency amino acids."
   ]
  },
  {
   "cell_type": "code",
   "execution_count": 592,
   "metadata": {},
   "outputs": [
    {
     "name": "stdout",
     "output_type": "stream",
     "text": [
      "  Frequency AA\n",
      "0      1764  L\n",
      "1      1413  S\n",
      "2       952  G\n"
     ]
    },
    {
     "data": {
      "text/plain": [
       "<AxesSubplot:xlabel='AA'>"
      ]
     },
     "execution_count": 592,
     "metadata": {},
     "output_type": "execute_result"
    },
    {
     "data": {
      "image/png": "[encoded data removed]",
      "text/plain": [
       "<Figure size 432x288 with 1 Axes>"
      ]
     },
     "metadata": {
      "needs_background": "light"
     },
     "output_type": "display_data"
    }
   ],
   "source": [
    "# Find aa frequency \n",
    "df[\"AA\"].value_counts()[0:3]\n",
    "\n",
    "## Backup code to doublecheck\n",
    "#df[[\"DNA\",\"RNA\",\"AA\", \"weight\"]].describe(include='all')\n",
    "\n",
    "#Make mini data frame to isolate values for barplot\n",
    "df_aa = pd.DataFrame({'Frequency':['1764','1413','952'],'AA':['L','S','G']})\n",
    "print(df_aa)\n",
    "\n",
    "#Make barplot\n",
    "df_aa.Frequency=pd.to_numeric(df_aa.Frequency)\n",
    "df_aa.plot(kind='bar', x='AA', y='Frequency')"
   ]
  },
  {
   "cell_type": "markdown",
   "metadata": {},
   "source": [
    "### 4) Create a boxplot of the codon weights."
   ]
  },
  {
   "cell_type": "code",
   "execution_count": 593,
   "metadata": {},
   "outputs": [
    {
     "data": {
      "image/png": "[encoded data removed]",
      "text/plain": [
       "<Figure size 432x288 with 1 Axes>"
      ]
     },
     "metadata": {
      "needs_background": "light"
     },
     "output_type": "display_data"
    }
   ],
   "source": [
    "##Make boxplot of codon weights\n",
    "df['weight'] = pd.to_numeric(df['weight'],errors='coerce') #errors=’coerce’ > transform the non-numeric values into NaN\n",
    "boxplot = df.boxplot(column=['weight'])"
   ]
  },
  {
   "cell_type": "markdown",
   "metadata": {},
   "source": [
    "### 5) Create the descriptive summary statistics table for weight"
   ]
  },
  {
   "cell_type": "code",
   "execution_count": 594,
   "metadata": {},
   "outputs": [
    {
     "data": {
      "text/html": [
       "<div>\n",
       "<style scoped>\n",
       "    .dataframe tbody tr th:only-of-type {\n",
       "        vertical-align: middle;\n",
       "    }\n",
       "\n",
       "    .dataframe tbody tr th {\n",
       "        vertical-align: top;\n",
       "    }\n",
       "\n",
       "    .dataframe thead th {\n",
       "        text-align: right;\n",
       "    }\n",
       "</style>\n",
       "<table border=\"1\" class=\"dataframe\">\n",
       "  <thead>\n",
       "    <tr style=\"text-align: right;\">\n",
       "      <th></th>\n",
       "      <th>weight</th>\n",
       "    </tr>\n",
       "  </thead>\n",
       "  <tbody>\n",
       "    <tr>\n",
       "      <th>count</th>\n",
       "      <td>14451.000000</td>\n",
       "    </tr>\n",
       "    <tr>\n",
       "      <th>mean</th>\n",
       "      <td>112.295409</td>\n",
       "    </tr>\n",
       "    <tr>\n",
       "      <th>std</th>\n",
       "      <td>28.622844</td>\n",
       "    </tr>\n",
       "    <tr>\n",
       "      <th>min</th>\n",
       "      <td>57.020000</td>\n",
       "    </tr>\n",
       "    <tr>\n",
       "      <th>25%</th>\n",
       "      <td>97.050000</td>\n",
       "    </tr>\n",
       "    <tr>\n",
       "      <th>50%</th>\n",
       "      <td>113.080000</td>\n",
       "    </tr>\n",
       "    <tr>\n",
       "      <th>75%</th>\n",
       "      <td>129.040000</td>\n",
       "    </tr>\n",
       "    <tr>\n",
       "      <th>max</th>\n",
       "      <td>186.080000</td>\n",
       "    </tr>\n",
       "  </tbody>\n",
       "</table>\n",
       "</div>"
      ],
      "text/plain": [
       "             weight\n",
       "count  14451.000000\n",
       "mean     112.295409\n",
       "std       28.622844\n",
       "min       57.020000\n",
       "25%       97.050000\n",
       "50%      113.080000\n",
       "75%      129.040000\n",
       "max      186.080000"
      ]
     },
     "execution_count": 594,
     "metadata": {},
     "output_type": "execute_result"
    }
   ],
   "source": [
    "## Describe Summary statistics for codon weight\n",
    "df[[\"weight\"]].describe(include='all')"
   ]
  },
  {
   "cell_type": "markdown",
   "metadata": {},
   "source": [
    "### 6) Use the stop codon as a separator and create a new dataframe where each row is a new protein sequence. For example, the long string ABCABCStopDEFSStop is two protein sequences, ABCABC and DEFS"
   ]
  },
  {
   "cell_type": "code",
   "execution_count": 595,
   "metadata": {},
   "outputs": [
    {
     "name": "stdout",
     "output_type": "stream",
     "text": [
      "                                                    AA\n",
      "0    WKSLRPRIANLSTTMMALISLVLVVVPPGEQEGLDASYLPPPLPSF...\n",
      "1     GCLKLCLCWLDEDGTLAVEYFSVQIPSLLPFDFLFFFFFFLLQCLGSC\n",
      "2                                               FAENNW\n",
      "3                                              VFKCRIL\n",
      "4                                                HHIVL\n",
      "..                                                 ...\n",
      "777                      KVTNHFNVYLLISMCSCNMGIVLCVCMYF\n",
      "778                                            TFIMKIL\n",
      "779                                               GTQK\n",
      "780                                                 RR\n",
      "781                                               YHKL\n",
      "\n",
      "[782 rows x 1 columns]\n"
     ]
    }
   ],
   "source": [
    "# Making the DNA column a string variable to modify it\n",
    "dna_string = df['AA'].astype('string')\n",
    "\n",
    "#concatenatin the string into one long string\n",
    "x = ''.join(dna_string) #x=long string\n",
    "\n",
    "#splitting the long string using 'STOP' as a separator\n",
    "x1 = x.split(\"Stop\")\n",
    "\n",
    "#making a dataframe from column of separated AA\n",
    "df2 = pd.DataFrame(data=x1)\n",
    "df2.columns =['AA']\n",
    "print(df2)"
   ]
  },
  {
   "cell_type": "code",
   "execution_count": 596,
   "metadata": {
    "scrolled": true
   },
   "outputs": [],
   "source": [
    "dna_string = df['AA'].astype('string')"
   ]
  },
  {
   "cell_type": "markdown",
   "metadata": {},
   "source": [
    "### 7) Create two new columns in the new dataframe, length of the protein sequence and weight of protein sequence."
   ]
  },
  {
   "cell_type": "code",
   "execution_count": 597,
   "metadata": {},
   "outputs": [],
   "source": [
    "#make lengths column \n",
    "df2['length'] = df2['AA'].str.len()\n",
    "\n",
    "##Fill in weights column with appopriate values (sum of associated weights)\n",
    "\n",
    "#put row 1 into a container\n",
    "row = df2['AA'][0]   "
   ]
  },
  {
   "cell_type": "code",
   "execution_count": 598,
   "metadata": {},
   "outputs": [],
   "source": [
    "#make a for loop \n",
    "lst =[] #empty container\n",
    "for i in row:\n",
    "    lst.append(weights[i]) #make column of weight values for first row"
   ]
  },
  {
   "cell_type": "code",
   "execution_count": 599,
   "metadata": {},
   "outputs": [],
   "source": [
    "#lst"
   ]
  },
  {
   "cell_type": "code",
   "execution_count": 600,
   "metadata": {},
   "outputs": [
    {
     "data": {
      "text/plain": [
       "5668.000000000001"
      ]
     },
     "execution_count": 600,
     "metadata": {},
     "output_type": "execute_result"
    }
   ],
   "source": [
    "sum(lst) #add up the weight values of first row"
   ]
  },
  {
   "cell_type": "code",
   "execution_count": 601,
   "metadata": {},
   "outputs": [],
   "source": [
    "#Make a function that sums up all of hte values in 1 row\n",
    "def weights_sum(rows): #rows is the argument needed for the function\n",
    "    lst =[]\n",
    "    for i in rows:\n",
    "        lst.append(weights[i])\n",
    "    return sum(lst) #the return value of the function\n",
    "    "
   ]
  },
  {
   "cell_type": "code",
   "execution_count": 602,
   "metadata": {},
   "outputs": [],
   "source": [
    "df2['weights'] = df2['AA'].apply(weights_sum) #.apply applies a function to every row"
   ]
  },
  {
   "cell_type": "code",
   "execution_count": 603,
   "metadata": {},
   "outputs": [
    {
     "data": {
      "text/html": [
       "<div>\n",
       "<style scoped>\n",
       "    .dataframe tbody tr th:only-of-type {\n",
       "        vertical-align: middle;\n",
       "    }\n",
       "\n",
       "    .dataframe tbody tr th {\n",
       "        vertical-align: top;\n",
       "    }\n",
       "\n",
       "    .dataframe thead th {\n",
       "        text-align: right;\n",
       "    }\n",
       "</style>\n",
       "<table border=\"1\" class=\"dataframe\">\n",
       "  <thead>\n",
       "    <tr style=\"text-align: right;\">\n",
       "      <th></th>\n",
       "      <th>AA</th>\n",
       "      <th>length</th>\n",
       "      <th>weights</th>\n",
       "    </tr>\n",
       "  </thead>\n",
       "  <tbody>\n",
       "    <tr>\n",
       "      <th>0</th>\n",
       "      <td>WKSLRPRIANLSTTMMALISLVLVVVPPGEQEGLDASYLPPPLPSF...</td>\n",
       "      <td>53</td>\n",
       "      <td>5668.00</td>\n",
       "    </tr>\n",
       "    <tr>\n",
       "      <th>1</th>\n",
       "      <td>GCLKLCLCWLDEDGTLAVEYFSVQIPSLLPFDFLFFFFFFLLQCLGSC</td>\n",
       "      <td>48</td>\n",
       "      <td>5528.64</td>\n",
       "    </tr>\n",
       "    <tr>\n",
       "      <th>2</th>\n",
       "      <td>FAENNW</td>\n",
       "      <td>6</td>\n",
       "      <td>761.31</td>\n",
       "    </tr>\n",
       "    <tr>\n",
       "      <th>3</th>\n",
       "      <td>VFKCRIL</td>\n",
       "      <td>7</td>\n",
       "      <td>859.50</td>\n",
       "    </tr>\n",
       "    <tr>\n",
       "      <th>4</th>\n",
       "      <td>HHIVL</td>\n",
       "      <td>5</td>\n",
       "      <td>599.35</td>\n",
       "    </tr>\n",
       "    <tr>\n",
       "      <th>...</th>\n",
       "      <td>...</td>\n",
       "      <td>...</td>\n",
       "      <td>...</td>\n",
       "    </tr>\n",
       "    <tr>\n",
       "      <th>777</th>\n",
       "      <td>KVTNHFNVYLLISMCSCNMGIVLCVCMYF</td>\n",
       "      <td>29</td>\n",
       "      <td>3326.50</td>\n",
       "    </tr>\n",
       "    <tr>\n",
       "      <th>778</th>\n",
       "      <td>TFIMKIL</td>\n",
       "      <td>7</td>\n",
       "      <td>846.49</td>\n",
       "    </tr>\n",
       "    <tr>\n",
       "      <th>779</th>\n",
       "      <td>GTQK</td>\n",
       "      <td>4</td>\n",
       "      <td>414.22</td>\n",
       "    </tr>\n",
       "    <tr>\n",
       "      <th>780</th>\n",
       "      <td>RR</td>\n",
       "      <td>2</td>\n",
       "      <td>312.20</td>\n",
       "    </tr>\n",
       "    <tr>\n",
       "      <th>781</th>\n",
       "      <td>YHKL</td>\n",
       "      <td>4</td>\n",
       "      <td>541.29</td>\n",
       "    </tr>\n",
       "  </tbody>\n",
       "</table>\n",
       "<p>782 rows × 3 columns</p>\n",
       "</div>"
      ],
      "text/plain": [
       "                                                    AA  length  weights\n",
       "0    WKSLRPRIANLSTTMMALISLVLVVVPPGEQEGLDASYLPPPLPSF...      53  5668.00\n",
       "1     GCLKLCLCWLDEDGTLAVEYFSVQIPSLLPFDFLFFFFFFLLQCLGSC      48  5528.64\n",
       "2                                               FAENNW       6   761.31\n",
       "3                                              VFKCRIL       7   859.50\n",
       "4                                                HHIVL       5   599.35\n",
       "..                                                 ...     ...      ...\n",
       "777                      KVTNHFNVYLLISMCSCNMGIVLCVCMYF      29  3326.50\n",
       "778                                            TFIMKIL       7   846.49\n",
       "779                                               GTQK       4   414.22\n",
       "780                                                 RR       2   312.20\n",
       "781                                               YHKL       4   541.29\n",
       "\n",
       "[782 rows x 3 columns]"
      ]
     },
     "execution_count": 603,
     "metadata": {},
     "output_type": "execute_result"
    }
   ],
   "source": [
    "df2"
   ]
  },
  {
   "cell_type": "markdown",
   "metadata": {},
   "source": [
    "### 8) Create a descriptive summary statistics table for length and weight"
   ]
  },
  {
   "cell_type": "code",
   "execution_count": null,
   "metadata": {},
   "outputs": [],
   "source": []
  },
  {
   "cell_type": "code",
   "execution_count": 604,
   "metadata": {},
   "outputs": [
    {
     "data": {
      "text/html": [
       "<div>\n",
       "<style scoped>\n",
       "    .dataframe tbody tr th:only-of-type {\n",
       "        vertical-align: middle;\n",
       "    }\n",
       "\n",
       "    .dataframe tbody tr th {\n",
       "        vertical-align: top;\n",
       "    }\n",
       "\n",
       "    .dataframe thead th {\n",
       "        text-align: right;\n",
       "    }\n",
       "</style>\n",
       "<table border=\"1\" class=\"dataframe\">\n",
       "  <thead>\n",
       "    <tr style=\"text-align: right;\">\n",
       "      <th></th>\n",
       "      <th>length</th>\n",
       "      <th>weights</th>\n",
       "    </tr>\n",
       "  </thead>\n",
       "  <tbody>\n",
       "    <tr>\n",
       "      <th>count</th>\n",
       "      <td>782.000000</td>\n",
       "      <td>782.000000</td>\n",
       "    </tr>\n",
       "    <tr>\n",
       "      <th>mean</th>\n",
       "      <td>18.479540</td>\n",
       "      <td>2075.167455</td>\n",
       "    </tr>\n",
       "    <tr>\n",
       "      <th>std</th>\n",
       "      <td>21.440122</td>\n",
       "      <td>2374.881799</td>\n",
       "    </tr>\n",
       "    <tr>\n",
       "      <th>min</th>\n",
       "      <td>0.000000</td>\n",
       "      <td>0.000000</td>\n",
       "    </tr>\n",
       "    <tr>\n",
       "      <th>25%</th>\n",
       "      <td>4.000000</td>\n",
       "      <td>453.197500</td>\n",
       "    </tr>\n",
       "    <tr>\n",
       "      <th>50%</th>\n",
       "      <td>12.000000</td>\n",
       "      <td>1280.155000</td>\n",
       "    </tr>\n",
       "    <tr>\n",
       "      <th>75%</th>\n",
       "      <td>24.000000</td>\n",
       "      <td>2700.617500</td>\n",
       "    </tr>\n",
       "    <tr>\n",
       "      <th>max</th>\n",
       "      <td>141.000000</td>\n",
       "      <td>14810.470000</td>\n",
       "    </tr>\n",
       "  </tbody>\n",
       "</table>\n",
       "</div>"
      ],
      "text/plain": [
       "           length       weights\n",
       "count  782.000000    782.000000\n",
       "mean    18.479540   2075.167455\n",
       "std     21.440122   2374.881799\n",
       "min      0.000000      0.000000\n",
       "25%      4.000000    453.197500\n",
       "50%     12.000000   1280.155000\n",
       "75%     24.000000   2700.617500\n",
       "max    141.000000  14810.470000"
      ]
     },
     "execution_count": 604,
     "metadata": {},
     "output_type": "execute_result"
    }
   ],
   "source": [
    "df2[[\"length\",'weights']].describe(include='all')"
   ]
  },
  {
   "cell_type": "markdown",
   "metadata": {},
   "source": [
    "### 9) Is there a relationship between the length and weight of protein sequences? Create a scatter plot comparing length and weight and include the regression line."
   ]
  },
  {
   "cell_type": "markdown",
   "metadata": {},
   "source": [
    "#### Yes! They are dependent variables becuse they're from the same sequences. As the length of a seqeunce increases, so will the weights. \n"
   ]
  },
  {
   "cell_type": "code",
   "execution_count": 570,
   "metadata": {},
   "outputs": [
    {
     "data": {
      "text/plain": [
       "<AxesSubplot:xlabel='length', ylabel='weights'>"
      ]
     },
     "execution_count": 570,
     "metadata": {},
     "output_type": "execute_result"
    },
    {
     "data": {
      "image/png": "[encoded data removed]",
      "text/plain": [
       "<Figure size 432x288 with 1 Axes>"
      ]
     },
     "metadata": {
      "needs_background": "light"
     },
     "output_type": "display_data"
    }
   ],
   "source": [
    "#df2 is new dataset name \n",
    "sns.regplot(data=df2, x=\"length\", y=\"weights\")\n",
    "\n",
    "#other ways to make plots using seaborn\n",
    "#sns.scatterplot(data=df2, x=\"length\", y=\"weights\")\n",
    "#sns.lmplot(data=df2, x=\"length\", y=\"weights\")"
   ]
  },
  {
   "cell_type": "markdown",
   "metadata": {},
   "source": [
    "### 10) What is the Pearson correlation coefficient?\n",
    "\n"
   ]
  },
  {
   "cell_type": "markdown",
   "metadata": {},
   "source": [
    "#### Pearson's correlation coefficient is a measure of how closely related two variables are using a linear association. However it doesn't account for the difference between dependent and independent variables or provide information of the slope of the line. "
   ]
  },
  {
   "cell_type": "code",
   "execution_count": null,
   "metadata": {},
   "outputs": [],
   "source": []
  },
  {
   "cell_type": "code",
   "execution_count": null,
   "metadata": {},
   "outputs": [],
   "source": []
  }
 ],
 "metadata": {
  "colab": {
   "collapsed_sections": [],
   "name": "Copy of NSBB-DA_Lecture2.5.DNAtoRNA.Questions.ipynb",
   "provenance": [],
   "toc_visible": true
  },
  "kernelspec": {
   "display_name": "Python 3",
   "language": "python",
   "name": "python3"
  },
  "language_info": {
   "codemirror_mode": {
    "name": "ipython",
    "version": 3
   },
   "file_extension": ".py",
   "mimetype": "text/x-python",
   "name": "python",
   "nbconvert_exporter": "python",
   "pygments_lexer": "ipython3",
   "version": "3.8.8"
  }
 },
 "nbformat": 4,
 "nbformat_minor": 1
}
