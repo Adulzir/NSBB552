{
 "cells": [
  {
   "cell_type": "code",
   "execution_count": 96,
   "id": "1b11a38b",
   "metadata": {},
   "outputs": [],
   "source": [
    "## Importing necessary module\n",
    "import sqlite3"
   ]
  },
  {
   "cell_type": "code",
   "execution_count": 97,
   "id": "a962b3b9",
   "metadata": {},
   "outputs": [
    {
     "name": "stdout",
     "output_type": "stream",
     "text": [
      "\n",
      " [+] Successfully connected to the database\n"
     ]
    }
   ],
   "source": [
    "## Setting up a connection to the database 1/2\n",
    "conn = sqlite3.connect('class.db')\n",
    "print(\"\\n [+] Successfully connected to the database\")"
   ]
  },
  {
   "cell_type": "code",
   "execution_count": 98,
   "id": "db6483e1",
   "metadata": {},
   "outputs": [
    {
     "name": "stdout",
     "output_type": "stream",
     "text": [
      "\n",
      " [+] Cursor has been set up successfully\n"
     ]
    }
   ],
   "source": [
    "## Setting up a connection to the database 2/2\n",
    "c = conn.cursor()\n",
    "print(\"\\n [+] Cursor has been set up successfully\")"
   ]
  },
  {
   "cell_type": "code",
   "execution_count": 99,
   "id": "9ac936ab",
   "metadata": {},
   "outputs": [
    {
     "name": "stdout",
     "output_type": "stream",
     "text": [
      "\n",
      " [+] The table has been created Successfully \n"
     ]
    }
   ],
   "source": [
    "## Creating a table in SQLite database > don't run this multiple times!! \n",
    "## class is the table name\n",
    "#table = c.execute(\"\"\"CREATE TABLE class ( \n",
    "#    first text,\n",
    "#    last text,\n",
    "#    age integer,\n",
    "#    color text\n",
    "# );\n",
    "# \"\"\")\n",
    "\n",
    "print(\"\\n [+] The table has been created Successfully \")"
   ]
  },
  {
   "cell_type": "code",
   "execution_count": 100,
   "id": "6420a900",
   "metadata": {},
   "outputs": [
    {
     "name": "stdout",
     "output_type": "stream",
     "text": [
      "<sqlite3.Cursor object at 0x7fcfa6d67570>\n"
     ]
    }
   ],
   "source": [
    "print(table)"
   ]
  },
  {
   "cell_type": "code",
   "execution_count": 101,
   "id": "fa35de23",
   "metadata": {},
   "outputs": [
    {
     "name": "stdout",
     "output_type": "stream",
     "text": [
      "\n",
      " [+] The Data has been inserted Successfully \n"
     ]
    }
   ],
   "source": [
    "## Filling data into the table (class) located in the SQLite database\n",
    "c.execute(\"INSERT INTO class (first, last, age, color) VALUES ('Phoebe', 'Chum', 26, 'orange')\")\n",
    "c.execute(\"INSERT INTO class (first, last, age, color) VALUES ('John', 'Tan', 29, 'magenta')\")\n",
    "c.execute(\"INSERT INTO class (first, last, age, color) VALUES ('Natasha', 'Le', 23, 'sky-blue')\")\n",
    "c.execute(\"INSERT INTO class (first, last, age, color) VALUES ('Erika', 'Altamirano', 26, 'royal-blue')\")\n",
    "c.execute(\"INSERT INTO class (first, last, age, color) VALUES ('Andrew', 'Jaeger', 29, 'neon-orange')\")\n",
    "c.execute(\"INSERT INTO class (first, last, age, color) VALUES ('Christian', 'Yoo', 23, 'peach')\")\n",
    "c.execute(\"INSERT INTO class (first, last, age, color) VALUES ('Francis', 'Zamora', 29, 'green')\")\n",
    "c.execute(\"INSERT INTO class (first, last, age, color) VALUES ('Tim', 'Simon', 26, 'maroon')\")\n",
    "c.execute(\"INSERT INTO class (first, last, age, color) VALUES ('Christopher', 'Wilson', 54, 'Sherwood Green Metallic')\")\n",
    "print(\"\\n [+] The Data has been inserted Successfully \")"
   ]
  },
  {
   "cell_type": "code",
   "execution_count": 102,
   "id": "1bf7f7b0",
   "metadata": {},
   "outputs": [
    {
     "name": "stdout",
     "output_type": "stream",
     "text": [
      "('Natasha', 'Le', 23, 'sky-blue')\n",
      "('Christian', 'Yoo', 23, 'peach')\n",
      "('Phoebe', 'Chum', 26, 'orange')\n",
      "('Erika', 'Altamirano', 26, 'royal-blue')\n",
      "('Tim', 'Simon', 26, 'maroon')\n",
      "('John', 'Tan', 29, 'magenta')\n",
      "('Andrew', 'Jaeger', 29, 'neon-orange')\n",
      "('Francis', 'Zamora', 29, 'green')\n",
      "('Christopher', 'Wilson', 54, 'Sherwood Green Metallic')\n"
     ]
    }
   ],
   "source": [
    "## Querying (Requesting) data from the table in the database\n",
    "## The 'SELECT' + '*' command allows all values to be pulled\n",
    "## The 'ORDER BY' command sorts by column given \n",
    "c.execute(\"SELECT * FROM class ORDER BY age\")\n",
    "table = c.fetchall()\n",
    "for i in table:\n",
    "    print(i)"
   ]
  },
  {
   "cell_type": "code",
   "execution_count": 104,
   "id": "3a2ac696",
   "metadata": {},
   "outputs": [
    {
     "name": "stdout",
     "output_type": "stream",
     "text": [
      "('Natasha', 'sky-blue')\n",
      "('Christian', 'peach')\n",
      "('Phoebe', 'orange')\n",
      "('Erika', 'royal-blue')\n",
      "('Tim', 'maroon')\n",
      "('John', 'magenta')\n",
      "('Andrew', 'neon-orange')\n",
      "('Francis', 'green')\n",
      "('Christopher', 'Sherwood Green Metallic')\n"
     ]
    }
   ],
   "source": [
    "## Querying (Requesting) data from the table in the database\n",
    "## The 'SELECT' command allows specifiec column values to be pulled\n",
    "## The 'ORDER BY' command sorts by column given \n",
    "c.execute(\"SELECT first,color FROM class ORDER BY age\")\n",
    "table = c.fetchall()\n",
    "for i in table:\n",
    "    print(i)"
   ]
  },
  {
   "cell_type": "code",
   "execution_count": 86,
   "id": "a8ab8e55",
   "metadata": {},
   "outputs": [],
   "source": [
    "## Closing the connection \n",
    "#c.close()\n",
    "#conn.commit()\n",
    "#conn.close()"
   ]
  },
  {
   "cell_type": "code",
   "execution_count": 87,
   "id": "a9a4695b",
   "metadata": {},
   "outputs": [
    {
     "ename": "NameError",
     "evalue": "name 'Classmate' is not defined",
     "output_type": "error",
     "traceback": [
      "\u001b[0;31m---------------------------------------------------------------------------\u001b[0m",
      "\u001b[0;31mNameError\u001b[0m                                 Traceback (most recent call last)",
      "\u001b[0;32m<ipython-input-87-aeb105c838d4>\u001b[0m in \u001b[0;36m<module>\u001b[0;34m\u001b[0m\n\u001b[0;32m----> 1\u001b[0;31m \u001b[0mclm_1\u001b[0m \u001b[0;34m=\u001b[0m \u001b[0mClassmate\u001b[0m\u001b[0;34m(\u001b[0m\u001b[0;34m'Phoebe'\u001b[0m\u001b[0;34m,\u001b[0m \u001b[0;34m'Chum'\u001b[0m\u001b[0;34m,\u001b[0m \u001b[0;36m26\u001b[0m\u001b[0;34m,\u001b[0m \u001b[0;34m'orange'\u001b[0m\u001b[0;34m)\u001b[0m\u001b[0;34m\u001b[0m\u001b[0;34m\u001b[0m\u001b[0m\n\u001b[0m\u001b[1;32m      2\u001b[0m \u001b[0mclm_2\u001b[0m \u001b[0;34m=\u001b[0m \u001b[0mClassmate\u001b[0m\u001b[0;34m(\u001b[0m\u001b[0;34m'John'\u001b[0m\u001b[0;34m,\u001b[0m \u001b[0;34m'Tan'\u001b[0m\u001b[0;34m,\u001b[0m \u001b[0;36m29\u001b[0m\u001b[0;34m,\u001b[0m \u001b[0;34m'magenta'\u001b[0m\u001b[0;34m)\u001b[0m\u001b[0;34m\u001b[0m\u001b[0;34m\u001b[0m\u001b[0m\n\u001b[1;32m      3\u001b[0m \u001b[0mclm_3\u001b[0m \u001b[0;34m=\u001b[0m \u001b[0mClassmate\u001b[0m\u001b[0;34m(\u001b[0m\u001b[0;34m'Natasha'\u001b[0m\u001b[0;34m,\u001b[0m \u001b[0;34m'Le'\u001b[0m\u001b[0;34m,\u001b[0m \u001b[0;36m23\u001b[0m\u001b[0;34m,\u001b[0m \u001b[0;34m'sky blue'\u001b[0m\u001b[0;34m)\u001b[0m\u001b[0;34m\u001b[0m\u001b[0;34m\u001b[0m\u001b[0m\n\u001b[1;32m      4\u001b[0m \u001b[0;34m\u001b[0m\u001b[0m\n\u001b[1;32m      5\u001b[0m \u001b[0mprint\u001b[0m\u001b[0;34m(\u001b[0m\u001b[0mclm_1\u001b[0m\u001b[0;34m.\u001b[0m\u001b[0mfirst\u001b[0m\u001b[0;34m)\u001b[0m\u001b[0;34m\u001b[0m\u001b[0;34m\u001b[0m\u001b[0m\n",
      "\u001b[0;31mNameError\u001b[0m: name 'Classmate' is not defined"
     ]
    }
   ],
   "source": [
    "## cool way to organize data \n",
    "## doesn't work > I need to define 'Classmate'\n",
    "\n",
    "clm_1 = Classmate('Phoebe', 'Chum', 26, 'orange')\n",
    "clm_2 = Classmate('John', 'Tan', 29, 'magenta')\n",
    "clm_3 = Classmate('Natasha', 'Le', 23, 'sky blue')\n",
    "\n",
    "print(clm_1.first)\n",
    "print(clm_1.last)\n",
    "print(clm_1.age)\n",
    "print(clm_1.color)\n",
    "\n",
    "print(clm_2.first)\n",
    "print(clm_2.last)\n",
    "print(clm_2.age)\n",
    "print(clm_2.color)\n",
    "\n",
    "print(clm_3.first)\n",
    "print(clm_3.last)\n",
    "print(clm_3.age)\n",
    "print(clm_3.color)"
   ]
  },
  {
   "cell_type": "code",
   "execution_count": null,
   "id": "4174742c",
   "metadata": {},
   "outputs": [],
   "source": []
  },
  {
   "cell_type": "code",
   "execution_count": null,
   "id": "079fc506",
   "metadata": {},
   "outputs": [],
   "source": []
  },
  {
   "cell_type": "code",
   "execution_count": null,
   "id": "0cf1cb0d",
   "metadata": {},
   "outputs": [],
   "source": []
  }
 ],
 "metadata": {
  "kernelspec": {
   "display_name": "Python 3",
   "language": "python",
   "name": "python3"
  },
  "language_info": {
   "codemirror_mode": {
    "name": "ipython",
    "version": 3
   },
   "file_extension": ".py",
   "mimetype": "text/x-python",
   "name": "python",
   "nbconvert_exporter": "python",
   "pygments_lexer": "ipython3",
   "version": "3.8.8"
  }
 },
 "nbformat": 4,
 "nbformat_minor": 5
}
